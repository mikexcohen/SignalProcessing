{
 "cells": [
  {
   "cell_type": "code",
   "execution_count": null,
   "metadata": {},
   "outputs": [],
   "source": [
    "import numpy as np\n",
    "import matplotlib.pyplot as plt\n",
    "from scipy.io import loadmat\n",
    "import scipy.signal as signal\n",
    "from IPython.display import Audio"
   ]
  },
  {
   "cell_type": "code",
   "execution_count": null,
   "metadata": {},
   "outputs": [],
   "source": [
    "# load the file\n",
    "matfile = loadmat('glassDance.mat')\n",
    "# this is a clip of Philip Glass, Dance VII (https://www.youtube.com/watch?v=LpewOlR-z_4)\n",
    "\n",
    "glassclip = matfile['glassclip']\n",
    "srate = matfile['srate'][0][0]\n",
    "\n",
    "# play the music!\n",
    "Audio(np.array(glassclip[:,0]), rate=srate)\n"
   ]
  },
  {
   "cell_type": "code",
   "execution_count": null,
   "metadata": {},
   "outputs": [],
   "source": [
    "# some variables for convenience\n",
    "pnts = len(glassclip)\n",
    "timevec = np.arange(0,pnts)/srate\n",
    "\n",
    "\n",
    "# draw the time-domain signals\n",
    "plt.plot(timevec,glassclip)\n",
    "plt.xlabel('Time (s)')\n",
    "plt.show()"
   ]
  },
  {
   "cell_type": "code",
   "execution_count": null,
   "metadata": {},
   "outputs": [],
   "source": [
    "## static power spectrum and pick a frequency range\n",
    "\n",
    "# inspect the power spectrum\n",
    "hz = np.linspace(0,srate/2,int(np.floor(len(glassclip)/2)+1))\n",
    "powr = abs(np.fft.fft(glassclip[:,0])/pnts)\n",
    "\n",
    "plt.plot(hz,powr[:len(hz)])\n",
    "plt.xlim([100,2000])\n",
    "plt.ylim([0,np.max(powr)])\n",
    "plt.xlabel('Frequency (Hz)')\n",
    "plt.ylabel('Amplitude')\n",
    "plt.show()\n"
   ]
  },
  {
   "cell_type": "code",
   "execution_count": null,
   "metadata": {},
   "outputs": [],
   "source": [
    "# pick frequencies to filter\n",
    "frange = [  300,  460 ]\n",
    "frange = [ 1000, 1100 ]\n",
    "frange = [ 1200, 1450 ]\n",
    "\n",
    "# design an FIR1 filter\n",
    "fkern = signal.firwin(2001, frange/(srate/2), pass_zero=\"bandpass\")\n",
    "\n",
    "# apply the filter to the signal\n",
    "filtglass = np.zeros(np.shape(glassclip))\n",
    "filtglass[:,0] = signal.filtfilt(fkern,1,glassclip[:,0])\n",
    "filtglass[:,1] = signal.filtfilt(fkern,1,glassclip[:,1])\n"
   ]
  },
  {
   "cell_type": "code",
   "execution_count": null,
   "metadata": {},
   "outputs": [],
   "source": [
    "## plot the raw and filtered signal power spectra\n",
    "powrF = abs(np.fft.fft(filtglass[:,0])/pnts)\n",
    "\n",
    "plt.plot(hz,powr[:len(hz)])\n",
    "plt.plot(hz,powrF[:len(hz)],'r')\n",
    "\n",
    "plt.xlim([100,2000])\n",
    "plt.ylim([0,np.max(powr)])\n",
    "plt.xlabel('Frequency (Hz)')\n",
    "plt.ylabel('Amplitude')\n",
    "plt.show()"
   ]
  },
  {
   "cell_type": "code",
   "execution_count": null,
   "metadata": {},
   "outputs": [],
   "source": [
    "# plot the time-frequency response\n",
    "\n",
    "frex,time,tf = signal.spectrogram(glassclip[:,0],window=('tukey',.25),fs=srate,noverlap=100)\n",
    "\n",
    "plt.plot([timevec[0],timevec[-1]],[frange[0],frange[0]],'w:')\n",
    "plt.plot([timevec[0],timevec[-1]],[frange[1],frange[1]],'w:')\n",
    "\n",
    "plt.pcolormesh(time,frex,np.log(tf),vmin=-20,vmax=-10)\n",
    "plt.ylim([0,2000])\n",
    "plt.xlabel('Time (s)')\n",
    "plt.ylabel('Frequency (Hz)')\n",
    "plt.show()"
   ]
  },
  {
   "cell_type": "code",
   "execution_count": null,
   "metadata": {},
   "outputs": [],
   "source": [
    "## Play the filtered signal!\n",
    "Audio(np.array(filtglass[:,0]), rate=srate)"
   ]
  }
 ],
 "metadata": {
  "kernelspec": {
   "display_name": "Python 3",
   "language": "python",
   "name": "python3"
  },
  "language_info": {
   "codemirror_mode": {
    "name": "ipython",
    "version": 3
   },
   "file_extension": ".py",
   "mimetype": "text/x-python",
   "name": "python",
   "nbconvert_exporter": "python",
   "pygments_lexer": "ipython3",
   "version": "3.7.4"
  }
 },
 "nbformat": 4,
 "nbformat_minor": 2
}
